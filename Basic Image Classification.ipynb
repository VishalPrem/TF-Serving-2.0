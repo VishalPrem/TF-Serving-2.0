{
 "cells": [
  {
   "cell_type": "code",
   "execution_count": 0,
   "metadata": {
    "colab": {},
    "colab_type": "code",
    "id": "0trJmd6DjqBZ"
   },
   "outputs": [],
   "source": [
    "from __future__ import absolute_import, division, print_function\n",
    "\n",
    "!pip install tensorflow-gpu==2.0.0-alpha0\n",
    "import tensorflow as tf\n",
    "import tensorflow_datasets as tfds\n",
    "from tensorflow import keras"
   ]
  },
  {
   "cell_type": "markdown",
   "metadata": {},
   "source": [
    "### Loading and Scaling the Data"
   ]
  },
  {
   "cell_type": "code",
   "execution_count": 0,
   "metadata": {
    "colab": {},
    "colab_type": "code",
    "id": "7FP5258xjs-v"
   },
   "outputs": [],
   "source": [
    "datasets, ds_info = tfds.load(name='mnist', with_info=True, as_supervised=True)\n",
    "mnist_train, mnist_test = datasets['train'], datasets['test']"
   ]
  },
  {
   "cell_type": "code",
   "execution_count": 0,
   "metadata": {
    "colab": {},
    "colab_type": "code",
    "id": "sg-MVpOsxCF8"
   },
   "outputs": [],
   "source": [
    "BUFFER_SIZE = 10 # Use a much larger value for real code. \n",
    "BATCH_SIZE = 64\n",
    "NUM_EPOCHS = 5\n",
    "\n",
    "def scale(image, label):\n",
    "    image = tf.cast(image, tf.float32)\n",
    "    image /= 255\n",
    "    \n",
    "    return image, label\n",
    "\n",
    "train_data = mnist_train.map(scale).shuffle(BUFFER_SIZE).batch(BATCH_SIZE).take(5)\n",
    "test_data = mnist_test.map(scale).batch(BATCH_SIZE).take(5)\n"
   ]
  },
  {
   "cell_type": "markdown",
   "metadata": {},
   "source": [
    "### Model Architecture"
   ]
  },
  {
   "cell_type": "code",
   "execution_count": 0,
   "metadata": {
    "colab": {},
    "colab_type": "code",
    "id": "h3IKyzTCDNGo"
   },
   "outputs": [],
   "source": [
    "model = tf.keras.Sequential([\n",
    "    tf.keras.layers.Conv2D(32, 3, activation='relu',\n",
    "                           input_shape=(28, 28, 1)),\n",
    "    tf.keras.layers.MaxPooling2D(),\n",
    "    tf.keras.layers.Flatten(),\n",
    "    tf.keras.layers.Dropout(0.1),\n",
    "    tf.keras.layers.Dense(64, activation='relu'),\n",
    "    tf.keras.layers.BatchNormalization(),\n",
    "    tf.keras.layers.Dense(10, activation='softmax')\n",
    "])\n",
    "\n",
    "model.compile(optimizer='adam',\n",
    "              loss='sparse_categorical_crossentropy',\n",
    "              metrics=['accuracy'])"
   ]
  },
  {
   "cell_type": "markdown",
   "metadata": {},
   "source": [
    "### Training\n"
   ]
  },
  {
   "cell_type": "code",
   "execution_count": 0,
   "metadata": {
    "colab": {},
    "colab_type": "code",
    "id": "eafts_Ebx5mA"
   },
   "outputs": [],
   "source": [
    "\n",
    "metrics_names = model.metrics_names\n",
    "NUM_EPOCHS=5\n",
    "\n",
    "for epoch in range(NUM_EPOCHS):\n",
    "  #Reset the metric accumulators\n",
    "  model.reset_metrics()\n",
    "\n",
    "    for image_batch, label_batch in train_data:\n",
    "    result = model.train_on_batch(image_batch, label_batch)\n",
    "    print(\"train: \",\n",
    "      \"{}: {:.3f}\".format(metrics_names[0], result[0]),\n",
    "      \"{}: {:.3f}\".format(metrics_names[1], result[1]))\n",
    "    for image_batch, label_batch in test_data:\n",
    "    result = model.test_on_batch(image_batch, label_batch, \n",
    "                             # return accumulated metrics\n",
    "                             reset_metrics=False)\n",
    "    print(\"\\neval: \",\n",
    "        \"{}: {:.3f}\".format(metrics_names[0], result[0]),\n",
    "        \"{}: {:.3f}\".format(metrics_names[1], result[1]))"
   ]
  },
  {
   "cell_type": "markdown",
   "metadata": {},
   "source": [
    "\n",
    "PS: I ran this in Google Labs and downloaded the notebook file. For some reason the output of the training was not printed in the downloded notebook. Thus im adding it as markdown text below just for reference."
   ]
  },
  {
   "cell_type": "markdown",
   "metadata": {},
   "source": [
    "train:  loss: 2.638 accuracy: 0.062\n",
    "train:  loss: 1.756 accuracy: 0.469\n",
    "train:  loss: 1.299 accuracy: 0.547\n",
    "train:  loss: 1.198 accuracy: 0.641\n",
    "train:  loss: 1.234 accuracy: 0.594\n",
    "\n",
    "eval:  loss: 2.067 accuracy: 0.578\n",
    "train:  loss: 0.508 accuracy: 0.906\n",
    "train:  loss: 0.453 accuracy: 0.891\n",
    "train:  loss: 0.489 accuracy: 0.891\n",
    "train:  loss: 0.415 accuracy: 0.938\n",
    "train:  loss: 0.505 accuracy: 0.875\n",
    "\n",
    "eval:  loss: 1.913 accuracy: 0.591\n",
    "train:  loss: 0.245 accuracy: 0.922\n",
    "train:  loss: 0.304 accuracy: 0.938\n",
    "train:  loss: 0.287 accuracy: 0.938\n",
    "train:  loss: 0.212 accuracy: 0.969\n",
    "train:  loss: 0.293 accuracy: 0.953\n",
    "\n",
    "eval:  loss: 1.815 accuracy: 0.641\n",
    "train:  loss: 0.202 accuracy: 0.969\n",
    "train:  loss: 0.188 accuracy: 0.953\n",
    "train:  loss: 0.233 accuracy: 0.953\n",
    "train:  loss: 0.156 accuracy: 1.000\n",
    "train:  loss: 0.213 accuracy: 0.969\n",
    "\n",
    "eval:  loss: 1.754 accuracy: 0.672\n",
    "train:  loss: 0.138 accuracy: 0.984\n",
    "train:  loss: 0.141 accuracy: 0.969\n",
    "train:  loss: 0.110 accuracy: 1.000\n",
    "train:  loss: 0.142 accuracy: 0.984\n",
    "train:  loss: 0.164 accuracy: 1.000\n",
    "\n",
    "eval:  loss: 1.717 accuracy: 0.734"
   ]
  },
  {
   "cell_type": "markdown",
   "metadata": {},
   "source": [
    "### Saving the model for tensorflow serving"
   ]
  },
  {
   "cell_type": "code",
   "execution_count": 0,
   "metadata": {
    "colab": {},
    "colab_type": "code",
    "id": "Td79b2hh0d37"
   },
   "outputs": [],
   "source": [
    "tf.saved_model.save(model, \"/serving/models/1/\")"
   ]
  }
 ],
 "metadata": {
  "colab": {
   "collapsed_sections": [],
   "name": "beginner.ipynb",
   "private_outputs": true,
   "provenance": [],
   "toc_visible": true,
   "version": "0.3.2"
  },
  "kernelspec": {
   "display_name": "Python 3",
   "language": "python",
   "name": "python3"
  },
  "language_info": {
   "codemirror_mode": {
    "name": "ipython",
    "version": 3
   },
   "file_extension": ".py",
   "mimetype": "text/x-python",
   "name": "python",
   "nbconvert_exporter": "python",
   "pygments_lexer": "ipython3",
   "version": "3.6.1"
  }
 },
 "nbformat": 4,
 "nbformat_minor": 1
}
